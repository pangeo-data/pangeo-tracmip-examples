{
 "cells": [
  {
   "cell_type": "markdown",
   "metadata": {},
   "source": [
    "# Plotting diurnal cycles\n",
    "\n",
    "Quick example of how to compute and plot the average diurnal cycle for the average surface temperature of each model. First, we start up a Kubernetes cluster and client:"
   ]
  },
  {
   "cell_type": "code",
   "execution_count": null,
   "metadata": {},
   "outputs": [],
   "source": [
    "from dask_kubernetes import KubeCluster\n",
    "\n",
    "cluster = KubeCluster(n_workers=10)\n",
    "cluster"
   ]
  },
  {
   "cell_type": "code",
   "execution_count": null,
   "metadata": {},
   "outputs": [],
   "source": [
    "from dask.distributed import Client\n",
    "\n",
    "client = Client(cluster)\n",
    "client"
   ]
  },
  {
   "cell_type": "markdown",
   "metadata": {},
   "source": [
    "Then we open up the preexisting catalog of TRACMIP data (we will search for the relevant data):"
   ]
  },
  {
   "cell_type": "code",
   "execution_count": null,
   "metadata": {},
   "outputs": [],
   "source": [
    "from intake import open_catalog\n",
    "\n",
    "cat = open_catalog(\"https://raw.githubusercontent.com/pangeo-data/pangeo-datastore/master/intake-catalogs/climate.yaml\")\n",
    "col = cat.tracmip()\n",
    "col"
   ]
  },
  {
   "cell_type": "code",
   "execution_count": null,
   "metadata": {},
   "outputs": [],
   "source": [
    "col.df"
   ]
  },
  {
   "cell_type": "code",
   "execution_count": null,
   "metadata": {},
   "outputs": [],
   "source": [
    "ds_dict = col.search(frequency=\"A3hr\", experiment=\"landControl\",\n",
    "                     variable=\"ts\").to_dataset_dict()"
   ]
  },
  {
   "cell_type": "markdown",
   "metadata": {},
   "source": [
    "Finally, we can use this data to generate a rough plot of the average diurnal cycle over different regions of each model:"
   ]
  },
  {
   "cell_type": "code",
   "execution_count": null,
   "metadata": {},
   "outputs": [],
   "source": [
    "ds_dict.keys()"
   ]
  },
  {
   "cell_type": "code",
   "execution_count": null,
   "metadata": {},
   "outputs": [],
   "source": [
    "import matplotlib.pyplot as plt\n",
    "%matplotlib inline\n",
    "\n",
    "plt.figure(figsize=(18, 20), facecolor='w', edgecolor='k')\n",
    "\n",
    "for i, source in enumerate(ds_dict.keys()):\n",
    "    ax = plt.subplot(5, 3, i + 1)\n",
    "    ds_dict[source][\"ts\"].sel(lon=slice(0,45), lat=slice(-30,30)) \\\n",
    "                         .groupby(\"time.hour\").mean(dim=(\"time\", \"lat\", \"lon\")) \\\n",
    "                         .plot(color=\"red\", label=\"land\")\n",
    "    ds_dict[source][\"ts\"].sel(lon=slice(45,360), lat=slice(-30,30)) \\\n",
    "                         .groupby(\"time.hour\").mean(dim=(\"time\", \"lat\", \"lon\")) \\\n",
    "                         .plot(color=\"blue\", label=\"ocean\")\n",
    "    ax.set(title=ds_dict[source].attrs[\"model_id\"], ylabel=ds_dict[source][\"ts\"].attrs[\"units\"])\n",
    "    ax.legend()\n",
    "    \n",
    "plt.tight_layout()"
   ]
  },
  {
   "cell_type": "code",
   "execution_count": null,
   "metadata": {},
   "outputs": [],
   "source": [
    "    "
   ]
  }
 ],
 "metadata": {
  "kernelspec": {
   "display_name": "Python [conda env:pangeo-tracmip-examples]",
   "language": "python",
   "name": "conda-env-pangeo-tracmip-examples-py"
  },
  "language_info": {
   "codemirror_mode": {
    "name": "ipython",
    "version": 3
   },
   "file_extension": ".py",
   "mimetype": "text/x-python",
   "name": "python",
   "nbconvert_exporter": "python",
   "pygments_lexer": "ipython3",
   "version": "3.7.6"
  }
 },
 "nbformat": 4,
 "nbformat_minor": 4
}
