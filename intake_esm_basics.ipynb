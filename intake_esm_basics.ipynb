{
 "cells": [
  {
   "cell_type": "markdown",
   "metadata": {},
   "source": [
    "# An introduction to dask-kubernetes and intake-esm\n",
    "\n",
    "Now that TRACMIP is embedded in Pangeo's [climate catalog](https://catalog.pangeo.io/climate), it is easier to aggregate through and merge the 7067 zarr sources that comprise the collection.\n",
    "Additionally, with dask-kubernetes, it should be much easier to perform computation on this data, as well as checking the performance of these computations using Dask's distributed dashboard.\n",
    "\n",
    "To initialize a Dask client, use the lab extension to start a new cluster and instantiate a `Client` with the scheduler address:"
   ]
  },
  {
   "cell_type": "code",
   "execution_count": 7,
   "metadata": {},
   "outputs": [
    {
     "data": {
      "text/html": [
       "<table style=\"border: 2px solid white;\">\n",
       "<tr>\n",
       "<td style=\"vertical-align: top; border: 0px solid white\">\n",
       "<h3 style=\"text-align: left;\">Client</h3>\n",
       "<ul style=\"text-align: left; list-style: none; margin: 0; padding: 0;\">\n",
       "  <li><b>Scheduler: </b>tcp://10.32.2.19:37469</li>\n",
       "  <li><b>Dashboard: </b><a href='/user/0000-0003-2292-0572/proxy/8787/status' target='_blank'>/user/0000-0003-2292-0572/proxy/8787/status</a>\n",
       "</ul>\n",
       "</td>\n",
       "<td style=\"vertical-align: top; border: 0px solid white\">\n",
       "<h3 style=\"text-align: left;\">Cluster</h3>\n",
       "<ul style=\"text-align: left; list-style:none; margin: 0; padding: 0;\">\n",
       "  <li><b>Workers: </b>0</li>\n",
       "  <li><b>Cores: </b>0</li>\n",
       "  <li><b>Memory: </b>0 B</li>\n",
       "</ul>\n",
       "</td>\n",
       "</tr>\n",
       "</table>"
      ],
      "text/plain": [
       "<Client: 'tcp://10.32.2.19:37469' processes=0 threads=0, memory=0 B>"
      ]
     },
     "execution_count": 7,
     "metadata": {},
     "output_type": "execute_result"
    }
   ],
   "source": [
    "from dask.distributed import Client\n",
    "\n",
    "client = Client(\"tcp://10.32.2.19:37469\")\n",
    "client"
   ]
  },
  {
   "cell_type": "markdown",
   "metadata": {},
   "source": [
    "From here, the number of workers can be scaled manually or adaptively.\n",
    "\n",
    "To access TRACMIP's ESM collection:"
   ]
  },
  {
   "cell_type": "code",
   "execution_count": 8,
   "metadata": {},
   "outputs": [
    {
     "data": {
      "text/plain": [
       "pangeo-tracmip-ESM Collection with 7067 entries:\n",
       "\t> 3 frequency(s)\n",
       "\n",
       "\t> 11 experiment(s)\n",
       "\n",
       "\t> 14 model(s)\n",
       "\n",
       "\t> 47 variable(s)\n",
       "\n",
       "\t> 10 version(s)\n",
       "\n",
       "\t> 7067 source(s)"
      ]
     },
     "execution_count": 8,
     "metadata": {},
     "output_type": "execute_result"
    }
   ],
   "source": [
    "from intake import open_catalog\n",
    "\n",
    "cat = open_catalog(\"https://raw.githubusercontent.com/pangeo-data/pangeo-datastore/master/intake-catalogs/climate.yaml\")\n",
    "col = cat.tracmip()\n",
    "col"
   ]
  },
  {
   "cell_type": "markdown",
   "metadata": {},
   "source": [
    "From here, `col.df` can be used to access the list of zarr sources like a Pandas `DataFrame`:"
   ]
  },
  {
   "cell_type": "code",
   "execution_count": 9,
   "metadata": {},
   "outputs": [
    {
     "data": {
      "text/html": [
       "<div>\n",
       "<style scoped>\n",
       "    .dataframe tbody tr th:only-of-type {\n",
       "        vertical-align: middle;\n",
       "    }\n",
       "\n",
       "    .dataframe tbody tr th {\n",
       "        vertical-align: top;\n",
       "    }\n",
       "\n",
       "    .dataframe thead th {\n",
       "        text-align: right;\n",
       "    }\n",
       "</style>\n",
       "<table border=\"1\" class=\"dataframe\">\n",
       "  <thead>\n",
       "    <tr style=\"text-align: right;\">\n",
       "      <th></th>\n",
       "      <th>frequency</th>\n",
       "      <th>experiment</th>\n",
       "      <th>model</th>\n",
       "      <th>variable</th>\n",
       "      <th>version</th>\n",
       "      <th>source</th>\n",
       "    </tr>\n",
       "  </thead>\n",
       "  <tbody>\n",
       "    <tr>\n",
       "      <th>0</th>\n",
       "      <td>A3hr</td>\n",
       "      <td>aqua4xCO2</td>\n",
       "      <td>AM21</td>\n",
       "      <td>hur</td>\n",
       "      <td>v20190116</td>\n",
       "      <td>gs://cmip6/tracmip/A3hr/aqua4xCO2/AM21/hur/v20...</td>\n",
       "    </tr>\n",
       "    <tr>\n",
       "      <th>1</th>\n",
       "      <td>A3hr</td>\n",
       "      <td>aqua4xCO2</td>\n",
       "      <td>AM21</td>\n",
       "      <td>hus</td>\n",
       "      <td>v20190116</td>\n",
       "      <td>gs://cmip6/tracmip/A3hr/aqua4xCO2/AM21/hus/v20...</td>\n",
       "    </tr>\n",
       "    <tr>\n",
       "      <th>2</th>\n",
       "      <td>A3hr</td>\n",
       "      <td>aqua4xCO2</td>\n",
       "      <td>AM21</td>\n",
       "      <td>ta</td>\n",
       "      <td>v20190116</td>\n",
       "      <td>gs://cmip6/tracmip/A3hr/aqua4xCO2/AM21/ta/v201...</td>\n",
       "    </tr>\n",
       "    <tr>\n",
       "      <th>3</th>\n",
       "      <td>A3hr</td>\n",
       "      <td>aqua4xCO2</td>\n",
       "      <td>AM21</td>\n",
       "      <td>ua</td>\n",
       "      <td>v20190116</td>\n",
       "      <td>gs://cmip6/tracmip/A3hr/aqua4xCO2/AM21/ua/v201...</td>\n",
       "    </tr>\n",
       "    <tr>\n",
       "      <th>4</th>\n",
       "      <td>A3hr</td>\n",
       "      <td>aqua4xCO2</td>\n",
       "      <td>AM21</td>\n",
       "      <td>va</td>\n",
       "      <td>v20190116</td>\n",
       "      <td>gs://cmip6/tracmip/A3hr/aqua4xCO2/AM21/va/v201...</td>\n",
       "    </tr>\n",
       "  </tbody>\n",
       "</table>\n",
       "</div>"
      ],
      "text/plain": [
       "  frequency experiment model variable    version  \\\n",
       "0      A3hr  aqua4xCO2  AM21      hur  v20190116   \n",
       "1      A3hr  aqua4xCO2  AM21      hus  v20190116   \n",
       "2      A3hr  aqua4xCO2  AM21       ta  v20190116   \n",
       "3      A3hr  aqua4xCO2  AM21       ua  v20190116   \n",
       "4      A3hr  aqua4xCO2  AM21       va  v20190116   \n",
       "\n",
       "                                              source  \n",
       "0  gs://cmip6/tracmip/A3hr/aqua4xCO2/AM21/hur/v20...  \n",
       "1  gs://cmip6/tracmip/A3hr/aqua4xCO2/AM21/hus/v20...  \n",
       "2  gs://cmip6/tracmip/A3hr/aqua4xCO2/AM21/ta/v201...  \n",
       "3  gs://cmip6/tracmip/A3hr/aqua4xCO2/AM21/ua/v201...  \n",
       "4  gs://cmip6/tracmip/A3hr/aqua4xCO2/AM21/va/v201...  "
      ]
     },
     "execution_count": 9,
     "metadata": {},
     "output_type": "execute_result"
    }
   ],
   "source": [
    "col.df.head()"
   ]
  },
  {
   "cell_type": "markdown",
   "metadata": {},
   "source": [
    "To find the columns and their unique values:"
   ]
  },
  {
   "cell_type": "code",
   "execution_count": 10,
   "metadata": {},
   "outputs": [
    {
     "data": {
      "text/plain": [
       "Index(['frequency', 'experiment', 'model', 'variable', 'version', 'source'], dtype='object')"
      ]
     },
     "execution_count": 10,
     "metadata": {},
     "output_type": "execute_result"
    }
   ],
   "source": [
    "col.df.columns"
   ]
  },
  {
   "cell_type": "code",
   "execution_count": 11,
   "metadata": {},
   "outputs": [
    {
     "data": {
      "text/plain": [
       "{'experiment': {'count': 11,\n",
       "  'values': ['aqua4xCO2',\n",
       "   'aquaControl',\n",
       "   'land4xCO2',\n",
       "   'landControl',\n",
       "   'landOrbit',\n",
       "   'aquaAbs07',\n",
       "   'aquaAbs15',\n",
       "   'aquaAbs20',\n",
       "   'landAbs07',\n",
       "   'landAbs15',\n",
       "   'landAbs20']},\n",
       " 'model': {'count': 14,\n",
       "  'values': ['AM21',\n",
       "   'CAM4',\n",
       "   'CAM5Nor',\n",
       "   'CNRM-AM5',\n",
       "   'ECHAM61',\n",
       "   'ECHAM63',\n",
       "   'GISS-ModelE2',\n",
       "   'MIROC5',\n",
       "   'MPAS',\n",
       "   'MetUM-CTL',\n",
       "   'MetUM-ENT',\n",
       "   'CAM3',\n",
       "   'LMDZ5A',\n",
       "   'CALTECH']},\n",
       " 'variable': {'count': 47,\n",
       "  'values': ['hur',\n",
       "   'hus',\n",
       "   'ta',\n",
       "   'ua',\n",
       "   'va',\n",
       "   'wap',\n",
       "   'zg',\n",
       "   'clivi',\n",
       "   'clt',\n",
       "   'clwvi',\n",
       "   'hfls',\n",
       "   'hfss',\n",
       "   'huss',\n",
       "   'pr',\n",
       "   'prc',\n",
       "   'prsn',\n",
       "   'prw',\n",
       "   'ps',\n",
       "   'psl',\n",
       "   'rlds',\n",
       "   'rldscs',\n",
       "   'rlus',\n",
       "   'rlut',\n",
       "   'rlutcs',\n",
       "   'rsds',\n",
       "   'rsdscs',\n",
       "   'rsdt',\n",
       "   'rsus',\n",
       "   'rsuscs',\n",
       "   'rsut',\n",
       "   'rsutcs',\n",
       "   'rtmt',\n",
       "   'sfcWind',\n",
       "   'tas',\n",
       "   'tasmax',\n",
       "   'tasmin',\n",
       "   'tauu',\n",
       "   'tauv',\n",
       "   'ts',\n",
       "   'cl',\n",
       "   'cli',\n",
       "   'clw',\n",
       "   'evspsbl',\n",
       "   'uas',\n",
       "   'vas',\n",
       "   'cct',\n",
       "   'hurs']}}"
      ]
     },
     "execution_count": 11,
     "metadata": {},
     "output_type": "execute_result"
    }
   ],
   "source": [
    "col.unique([\"experiment\", \"model\", \"variable\"])"
   ]
  },
  {
   "cell_type": "markdown",
   "metadata": {},
   "source": [
    "To make a query of the collection:"
   ]
  },
  {
   "cell_type": "code",
   "execution_count": 12,
   "metadata": {},
   "outputs": [],
   "source": [
    "new_col = col.search(frequency=\"Amon\",\n",
    "                     experiment=[\"aquaControl\", \"landControl\"],\n",
    "                     model=[\"CAM3\", \"CAM4\", \"CAM5Nor\"],\n",
    "                     variable=[\"pr\", \"cl\", \"huss\"])"
   ]
  },
  {
   "cell_type": "markdown",
   "metadata": {},
   "source": [
    "To load the collection into lazily using Dask:"
   ]
  },
  {
   "cell_type": "code",
   "execution_count": 13,
   "metadata": {},
   "outputs": [
    {
     "name": "stdout",
     "output_type": "stream",
     "text": [
      "Progress: |███████████████████████████████████████████████████████████████████████████████| 100.0% \n",
      "\n",
      "--> The keys in the returned dictionary of datasets are constructed as follows:\n",
      "\t'model.experiment.frequency'\n",
      "             \n",
      "--> There are 6 group(s)\n"
     ]
    }
   ],
   "source": [
    "ds_dict = new_col.to_dataset_dict(zarr_kwargs={\"consolidated\" : True})"
   ]
  },
  {
   "cell_type": "code",
   "execution_count": 14,
   "metadata": {},
   "outputs": [
    {
     "data": {
      "text/plain": [
       "dict_keys(['CAM3.landControl.Amon', 'CAM3.aquaControl.Amon', 'CAM5Nor.landControl.Amon', 'CAM4.landControl.Amon', 'CAM4.aquaControl.Amon', 'CAM5Nor.aquaControl.Amon'])"
      ]
     },
     "execution_count": 14,
     "metadata": {},
     "output_type": "execute_result"
    }
   ],
   "source": [
    "ds_dict.keys()"
   ]
  },
  {
   "cell_type": "code",
   "execution_count": 15,
   "metadata": {},
   "outputs": [
    {
     "data": {
      "text/html": [
       "<pre>&lt;xarray.Dataset&gt;\n",
       "Dimensions:    (bnds: 2, lat: 64, lon: 128, plev: 17, time: 480)\n",
       "Coordinates:\n",
       "  * lat        (lat) float64 -87.86 -85.1 -82.31 -79.53 ... 82.31 85.1 87.86\n",
       "  * lon        (lon) float64 0.0 2.812 5.625 8.438 ... 348.8 351.6 354.4 357.2\n",
       "  * plev       (plev) float64 1e+05 9.25e+04 8.5e+04 7e+04 ... 3e+03 2e+03 1e+03\n",
       "  * time       (time) object 0046-01-16 12:00:00 ... 0085-12-16 12:00:00\n",
       "Dimensions without coordinates: bnds\n",
       "Data variables:\n",
       "    cl         (time, plev, lat, lon) float32 dask.array&lt;chunksize=(240, 17, 64, 128), meta=np.ndarray&gt;\n",
       "    lat_bnds   (lat, bnds) float64 dask.array&lt;chunksize=(64, 2), meta=np.ndarray&gt;\n",
       "    lon_bnds   (lon, bnds) float64 dask.array&lt;chunksize=(128, 2), meta=np.ndarray&gt;\n",
       "    time_bnds  (time, bnds) object dask.array&lt;chunksize=(480, 2), meta=np.ndarray&gt;\n",
       "    pr         (time, lat, lon) float32 dask.array&lt;chunksize=(480, 64, 128), meta=np.ndarray&gt;\n",
       "Attributes:\n",
       "    parent_experiment_rip:  r1i1p1\n",
       "    parent_experiment_id:   aquaControlTRACMIP\n",
       "    initialization_method:  1\n",
       "    tracking_id:            5a5055f9-1d3a-4248-b0da-dbf9116d5ffe\\n41b272bd-29...\n",
       "    branch_time:            0.0\n",
       "    product:                output\n",
       "    project_id:             TRACMIP\n",
       "    modeling_realm:         atmos\n",
       "    institute_id:           UW-MADISON\n",
       "    comment:                idealized land control of TRACMIP; for TRACMIP se...\n",
       "    cmor_version:           2.9.1\n",
       "    contact:                rddixon@wisc.edu; ross.dixon@meteo.fr\n",
       "    Conventions:            CF-1.4\n",
       "    physics_version:        1\n",
       "    source:                 CAM3, T42, 26 levels;\n",
       "    institution:            University of Wisconsin Madison; Centre National ...\n",
       "    experiment_id:          landControlTRACMIP\n",
       "    experiment:             idealized continent control of TRACMIP\n",
       "    forcing:                CTRL\n",
       "    title:                  CAM3 model output prepared for TRACMIP idealized ...\n",
       "    realization:            1\n",
       "    parent_experiment:      aqua planet control of TRACMIP\n",
       "    references:             CAM3: Collins et al., 2006, The formulation and a...\n",
       "    model_id:               CAM3\n",
       "    frequency:              mon\n",
       "    table_id:               Table Amon (11 September 2017) 8c633597e288c86e41...\n",
       "    history:                N/A 2018-12-29T20:37:11Z CMOR rewrote data to com...</pre>"
      ],
      "text/plain": [
       "<xarray.Dataset>\n",
       "Dimensions:    (bnds: 2, lat: 64, lon: 128, plev: 17, time: 480)\n",
       "Coordinates:\n",
       "  * lat        (lat) float64 -87.86 -85.1 -82.31 -79.53 ... 82.31 85.1 87.86\n",
       "  * lon        (lon) float64 0.0 2.812 5.625 8.438 ... 348.8 351.6 354.4 357.2\n",
       "  * plev       (plev) float64 1e+05 9.25e+04 8.5e+04 7e+04 ... 3e+03 2e+03 1e+03\n",
       "  * time       (time) object 0046-01-16 12:00:00 ... 0085-12-16 12:00:00\n",
       "Dimensions without coordinates: bnds\n",
       "Data variables:\n",
       "    cl         (time, plev, lat, lon) float32 dask.array<chunksize=(240, 17, 64, 128), meta=np.ndarray>\n",
       "    lat_bnds   (lat, bnds) float64 dask.array<chunksize=(64, 2), meta=np.ndarray>\n",
       "    lon_bnds   (lon, bnds) float64 dask.array<chunksize=(128, 2), meta=np.ndarray>\n",
       "    time_bnds  (time, bnds) object dask.array<chunksize=(480, 2), meta=np.ndarray>\n",
       "    pr         (time, lat, lon) float32 dask.array<chunksize=(480, 64, 128), meta=np.ndarray>\n",
       "Attributes:\n",
       "    parent_experiment_rip:  r1i1p1\n",
       "    parent_experiment_id:   aquaControlTRACMIP\n",
       "    initialization_method:  1\n",
       "    tracking_id:            5a5055f9-1d3a-4248-b0da-dbf9116d5ffe\\n41b272bd-29...\n",
       "    branch_time:            0.0\n",
       "    product:                output\n",
       "    project_id:             TRACMIP\n",
       "    modeling_realm:         atmos\n",
       "    institute_id:           UW-MADISON\n",
       "    comment:                idealized land control of TRACMIP; for TRACMIP se...\n",
       "    cmor_version:           2.9.1\n",
       "    contact:                rddixon@wisc.edu; ross.dixon@meteo.fr\n",
       "    Conventions:            CF-1.4\n",
       "    physics_version:        1\n",
       "    source:                 CAM3, T42, 26 levels;\n",
       "    institution:            University of Wisconsin Madison; Centre National ...\n",
       "    experiment_id:          landControlTRACMIP\n",
       "    experiment:             idealized continent control of TRACMIP\n",
       "    forcing:                CTRL\n",
       "    title:                  CAM3 model output prepared for TRACMIP idealized ...\n",
       "    realization:            1\n",
       "    parent_experiment:      aqua planet control of TRACMIP\n",
       "    references:             CAM3: Collins et al., 2006, The formulation and a...\n",
       "    model_id:               CAM3\n",
       "    frequency:              mon\n",
       "    table_id:               Table Amon (11 September 2017) 8c633597e288c86e41...\n",
       "    history:                N/A 2018-12-29T20:37:11Z CMOR rewrote data to com..."
      ]
     },
     "execution_count": 15,
     "metadata": {},
     "output_type": "execute_result"
    }
   ],
   "source": [
    "ds_dict[\"CAM3.landControl.Amon\"]"
   ]
  },
  {
   "cell_type": "code",
   "execution_count": null,
   "metadata": {},
   "outputs": [],
   "source": []
  }
 ],
 "metadata": {
  "kernelspec": {
   "display_name": "Python 3",
   "language": "python",
   "name": "python3"
  },
  "language_info": {
   "codemirror_mode": {
    "name": "ipython",
    "version": 3
   },
   "file_extension": ".py",
   "mimetype": "text/x-python",
   "name": "python",
   "nbconvert_exporter": "python",
   "pygments_lexer": "ipython3",
   "version": "3.7.6"
  }
 },
 "nbformat": 4,
 "nbformat_minor": 4
}
