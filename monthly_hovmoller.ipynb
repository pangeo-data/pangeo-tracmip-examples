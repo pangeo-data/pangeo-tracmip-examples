{
 "cells": [
  {
   "cell_type": "markdown",
   "metadata": {},
   "source": [
    "# Computing and plotting monthly climatologies\n",
    "\n",
    "Quick example of how to compute monthly climatologies of catalogued data and generate Hovmöller plots with the resulting averages. First, we start up a Kubernetes cluster and client:"
   ]
  },
  {
   "cell_type": "code",
   "execution_count": 4,
   "metadata": {},
   "outputs": [
    {
     "data": {
      "application/vnd.jupyter.widget-view+json": {
       "model_id": "6ce7429f289f4497965a210573914ee6",
       "version_major": 2,
       "version_minor": 0
      },
      "text/plain": [
       "VBox(children=(HTML(value='<h2>KubeCluster</h2>'), HBox(children=(HTML(value='\\n<div>\\n  <style scoped>\\n    .…"
      ]
     },
     "metadata": {},
     "output_type": "display_data"
    }
   ],
   "source": [
    "from dask_kubernetes import KubeCluster\n",
    "\n",
    "cluster = KubeCluster(n_workers=10)\n",
    "cluster"
   ]
  },
  {
   "cell_type": "code",
   "execution_count": 5,
   "metadata": {},
   "outputs": [
    {
     "data": {
      "text/html": [
       "<table style=\"border: 2px solid white;\">\n",
       "<tr>\n",
       "<td style=\"vertical-align: top; border: 0px solid white\">\n",
       "<h3 style=\"text-align: left;\">Client</h3>\n",
       "<ul style=\"text-align: left; list-style: none; margin: 0; padding: 0;\">\n",
       "  <li><b>Scheduler: </b>tcp://10.51.81.21:44993</li>\n",
       "  <li><b>Dashboard: </b><a href='/user/charlesbluca-pa-racmip-examples-8vouul33/proxy/8787/status' target='_blank'>/user/charlesbluca-pa-racmip-examples-8vouul33/proxy/8787/status</a>\n",
       "</ul>\n",
       "</td>\n",
       "<td style=\"vertical-align: top; border: 0px solid white\">\n",
       "<h3 style=\"text-align: left;\">Cluster</h3>\n",
       "<ul style=\"text-align: left; list-style:none; margin: 0; padding: 0;\">\n",
       "  <li><b>Workers: </b>0</li>\n",
       "  <li><b>Cores: </b>0</li>\n",
       "  <li><b>Memory: </b>0 B</li>\n",
       "</ul>\n",
       "</td>\n",
       "</tr>\n",
       "</table>"
      ],
      "text/plain": [
       "<Client: 'tcp://10.51.81.21:44993' processes=0 threads=0, memory=0 B>"
      ]
     },
     "execution_count": 5,
     "metadata": {},
     "output_type": "execute_result"
    }
   ],
   "source": [
    "from dask.distributed import Client\n",
    "\n",
    "client = Client(cluster)\n",
    "client"
   ]
  },
  {
   "cell_type": "markdown",
   "metadata": {},
   "source": [
    "Then we open up the preexisting catalog of TRACMIP data:"
   ]
  },
  {
   "cell_type": "code",
   "execution_count": 1,
   "metadata": {},
   "outputs": [
    {
     "data": {
      "text/plain": [
       "pangeo-tracmip-ESM Collection with 7067 entries:\n",
       "\t> 3 frequency(s)\n",
       "\n",
       "\t> 11 experiment(s)\n",
       "\n",
       "\t> 14 model(s)\n",
       "\n",
       "\t> 47 variable(s)\n",
       "\n",
       "\t> 10 version(s)\n",
       "\n",
       "\t> 7067 source(s)"
      ]
     },
     "execution_count": 1,
     "metadata": {},
     "output_type": "execute_result"
    }
   ],
   "source": [
    "from intake import open_catalog\n",
    "\n",
    "cat = open_catalog(\"https://raw.githubusercontent.com/pangeo-data/pangeo-datastore/master/intake-catalogs/climate.yaml\")\n",
    "col = cat.tracmip()\n",
    "col"
   ]
  },
  {
   "cell_type": "code",
   "execution_count": 2,
   "metadata": {},
   "outputs": [
    {
     "data": {
      "text/html": [
       "<div>\n",
       "<style scoped>\n",
       "    .dataframe tbody tr th:only-of-type {\n",
       "        vertical-align: middle;\n",
       "    }\n",
       "\n",
       "    .dataframe tbody tr th {\n",
       "        vertical-align: top;\n",
       "    }\n",
       "\n",
       "    .dataframe thead th {\n",
       "        text-align: right;\n",
       "    }\n",
       "</style>\n",
       "<table border=\"1\" class=\"dataframe\">\n",
       "  <thead>\n",
       "    <tr style=\"text-align: right;\">\n",
       "      <th></th>\n",
       "      <th>frequency</th>\n",
       "      <th>experiment</th>\n",
       "      <th>model</th>\n",
       "      <th>variable</th>\n",
       "      <th>version</th>\n",
       "      <th>source</th>\n",
       "    </tr>\n",
       "  </thead>\n",
       "  <tbody>\n",
       "    <tr>\n",
       "      <th>0</th>\n",
       "      <td>A3hr</td>\n",
       "      <td>aqua4xCO2</td>\n",
       "      <td>AM21</td>\n",
       "      <td>hur</td>\n",
       "      <td>v20190116</td>\n",
       "      <td>gs://cmip6/tracmip/A3hr/aqua4xCO2/AM21/hur/v20...</td>\n",
       "    </tr>\n",
       "    <tr>\n",
       "      <th>1</th>\n",
       "      <td>A3hr</td>\n",
       "      <td>aqua4xCO2</td>\n",
       "      <td>AM21</td>\n",
       "      <td>hus</td>\n",
       "      <td>v20190116</td>\n",
       "      <td>gs://cmip6/tracmip/A3hr/aqua4xCO2/AM21/hus/v20...</td>\n",
       "    </tr>\n",
       "    <tr>\n",
       "      <th>2</th>\n",
       "      <td>A3hr</td>\n",
       "      <td>aqua4xCO2</td>\n",
       "      <td>AM21</td>\n",
       "      <td>ta</td>\n",
       "      <td>v20190116</td>\n",
       "      <td>gs://cmip6/tracmip/A3hr/aqua4xCO2/AM21/ta/v201...</td>\n",
       "    </tr>\n",
       "    <tr>\n",
       "      <th>3</th>\n",
       "      <td>A3hr</td>\n",
       "      <td>aqua4xCO2</td>\n",
       "      <td>AM21</td>\n",
       "      <td>ua</td>\n",
       "      <td>v20190116</td>\n",
       "      <td>gs://cmip6/tracmip/A3hr/aqua4xCO2/AM21/ua/v201...</td>\n",
       "    </tr>\n",
       "    <tr>\n",
       "      <th>4</th>\n",
       "      <td>A3hr</td>\n",
       "      <td>aqua4xCO2</td>\n",
       "      <td>AM21</td>\n",
       "      <td>va</td>\n",
       "      <td>v20190116</td>\n",
       "      <td>gs://cmip6/tracmip/A3hr/aqua4xCO2/AM21/va/v201...</td>\n",
       "    </tr>\n",
       "    <tr>\n",
       "      <th>...</th>\n",
       "      <td>...</td>\n",
       "      <td>...</td>\n",
       "      <td>...</td>\n",
       "      <td>...</td>\n",
       "      <td>...</td>\n",
       "      <td>...</td>\n",
       "    </tr>\n",
       "    <tr>\n",
       "      <th>7062</th>\n",
       "      <td>Amon</td>\n",
       "      <td>landOrbit</td>\n",
       "      <td>MetUM-ENT</td>\n",
       "      <td>uas</td>\n",
       "      <td>v20180423</td>\n",
       "      <td>gs://cmip6/tracmip/Amon/landOrbit/MetUM-ENT/ua...</td>\n",
       "    </tr>\n",
       "    <tr>\n",
       "      <th>7063</th>\n",
       "      <td>Amon</td>\n",
       "      <td>landOrbit</td>\n",
       "      <td>MetUM-ENT</td>\n",
       "      <td>va</td>\n",
       "      <td>v20180423</td>\n",
       "      <td>gs://cmip6/tracmip/Amon/landOrbit/MetUM-ENT/va...</td>\n",
       "    </tr>\n",
       "    <tr>\n",
       "      <th>7064</th>\n",
       "      <td>Amon</td>\n",
       "      <td>landOrbit</td>\n",
       "      <td>MetUM-ENT</td>\n",
       "      <td>vas</td>\n",
       "      <td>v20180423</td>\n",
       "      <td>gs://cmip6/tracmip/Amon/landOrbit/MetUM-ENT/va...</td>\n",
       "    </tr>\n",
       "    <tr>\n",
       "      <th>7065</th>\n",
       "      <td>Amon</td>\n",
       "      <td>landOrbit</td>\n",
       "      <td>MetUM-ENT</td>\n",
       "      <td>wap</td>\n",
       "      <td>v20180423</td>\n",
       "      <td>gs://cmip6/tracmip/Amon/landOrbit/MetUM-ENT/wa...</td>\n",
       "    </tr>\n",
       "    <tr>\n",
       "      <th>7066</th>\n",
       "      <td>Amon</td>\n",
       "      <td>landOrbit</td>\n",
       "      <td>MetUM-ENT</td>\n",
       "      <td>zg</td>\n",
       "      <td>v20180423</td>\n",
       "      <td>gs://cmip6/tracmip/Amon/landOrbit/MetUM-ENT/zg...</td>\n",
       "    </tr>\n",
       "  </tbody>\n",
       "</table>\n",
       "<p>7067 rows × 6 columns</p>\n",
       "</div>"
      ],
      "text/plain": [
       "     frequency experiment      model variable    version  \\\n",
       "0         A3hr  aqua4xCO2       AM21      hur  v20190116   \n",
       "1         A3hr  aqua4xCO2       AM21      hus  v20190116   \n",
       "2         A3hr  aqua4xCO2       AM21       ta  v20190116   \n",
       "3         A3hr  aqua4xCO2       AM21       ua  v20190116   \n",
       "4         A3hr  aqua4xCO2       AM21       va  v20190116   \n",
       "...        ...        ...        ...      ...        ...   \n",
       "7062      Amon  landOrbit  MetUM-ENT      uas  v20180423   \n",
       "7063      Amon  landOrbit  MetUM-ENT       va  v20180423   \n",
       "7064      Amon  landOrbit  MetUM-ENT      vas  v20180423   \n",
       "7065      Amon  landOrbit  MetUM-ENT      wap  v20180423   \n",
       "7066      Amon  landOrbit  MetUM-ENT       zg  v20180423   \n",
       "\n",
       "                                                 source  \n",
       "0     gs://cmip6/tracmip/A3hr/aqua4xCO2/AM21/hur/v20...  \n",
       "1     gs://cmip6/tracmip/A3hr/aqua4xCO2/AM21/hus/v20...  \n",
       "2     gs://cmip6/tracmip/A3hr/aqua4xCO2/AM21/ta/v201...  \n",
       "3     gs://cmip6/tracmip/A3hr/aqua4xCO2/AM21/ua/v201...  \n",
       "4     gs://cmip6/tracmip/A3hr/aqua4xCO2/AM21/va/v201...  \n",
       "...                                                 ...  \n",
       "7062  gs://cmip6/tracmip/Amon/landOrbit/MetUM-ENT/ua...  \n",
       "7063  gs://cmip6/tracmip/Amon/landOrbit/MetUM-ENT/va...  \n",
       "7064  gs://cmip6/tracmip/Amon/landOrbit/MetUM-ENT/va...  \n",
       "7065  gs://cmip6/tracmip/Amon/landOrbit/MetUM-ENT/wa...  \n",
       "7066  gs://cmip6/tracmip/Amon/landOrbit/MetUM-ENT/zg...  \n",
       "\n",
       "[7067 rows x 6 columns]"
      ]
     },
     "execution_count": 2,
     "metadata": {},
     "output_type": "execute_result"
    }
   ],
   "source": [
    "col.df"
   ]
  },
  {
   "cell_type": "code",
   "execution_count": 6,
   "metadata": {},
   "outputs": [
    {
     "name": "stderr",
     "output_type": "stream",
     "text": [
      "C:\\Users\\geniu\\Miniconda3\\envs\\pangeo-tracmip-examples\\lib\\site-packages\\google\\auth\\_default.py:69: UserWarning: Your application has authenticated using end user credentials from Google Cloud SDK. We recommend that most server applications use service accounts instead. If your application continues to use end user credentials from Cloud SDK, you might receive a \"quota exceeded\" or \"API not enabled\" error. For more information about service accounts, see https://cloud.google.com/docs/authentication/\n",
      "  warnings.warn(_CLOUD_SDK_CREDENTIALS_WARNING)\n"
     ]
    },
    {
     "name": "stdout",
     "output_type": "stream",
     "text": [
      "Progress: |███████████████████████████████████████████████████████████████████████████████| 100.0% \n",
      "\n",
      "--> The keys in the returned dictionary of datasets are constructed as follows:\n",
      "\t'model.experiment.frequency'\n",
      "             \n",
      "--> There are 14 group(s)\n"
     ]
    }
   ],
   "source": [
    "ds_dict = col.search(frequency=\"Amon\", experiment=\"aquaControl\", \n",
    "                     variable=\"pr\").to_dataset_dict()"
   ]
  },
  {
   "cell_type": "markdown",
   "metadata": {},
   "source": [
    "Finally, we make a rough Hovmöller plot of this data, using `xarray`'s `groupby` method to produce monthly means:"
   ]
  },
  {
   "cell_type": "code",
   "execution_count": null,
   "metadata": {},
   "outputs": [],
   "source": [
    "import matplotlib.pyplot as plt\n",
    "%matplotlib inline\n",
    "\n",
    "plt.figure(figsize=(18, 20), facecolor='w', edgecolor='k')\n",
    "\n",
    "for i, source in enumerate(ds_dict):\n",
    "    ax = plt.subplot(5, 3, i + 1)\n",
    "    ds_dict[source][\"pr\"].groupby(\"time.month\").mean(dim=(\"time\", \"lon\")) \\\n",
    "                         .plot.contourf(x=\"month\", cmap=\"Blues\",\n",
    "                                        cbar_kwargs={\"label\" : ds_dict[source][\"pr\"].attrs[\"units\"]})\n",
    "    ax.set(title=ds_dict[source].attrs[\"model_id\"])\n",
    "    \n",
    "plt.tight_layout()"
   ]
  },
  {
   "cell_type": "code",
   "execution_count": null,
   "metadata": {},
   "outputs": [],
   "source": []
  }
 ],
 "metadata": {
  "kernelspec": {
   "display_name": "Python [conda env:pangeo-tracmip-examples]",
   "language": "python",
   "name": "conda-env-pangeo-tracmip-examples-py"
  },
  "language_info": {
   "codemirror_mode": {
    "name": "ipython",
    "version": 3
   },
   "file_extension": ".py",
   "mimetype": "text/x-python",
   "name": "python",
   "nbconvert_exporter": "python",
   "pygments_lexer": "ipython3",
   "version": "3.7.6"
  }
 },
 "nbformat": 4,
 "nbformat_minor": 4
}
